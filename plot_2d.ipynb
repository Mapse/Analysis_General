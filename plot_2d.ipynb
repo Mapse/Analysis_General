{
 "cells": [
  {
   "cell_type": "code",
   "execution_count": null,
   "id": "9f2831d3-0967-4dfd-a56b-5aae536a9a28",
   "metadata": {},
   "outputs": [],
   "source": [
    "import uproot\n",
    "import hist\n",
    "from hist import Hist\n",
    "import matplotlib.pyplot as plt\n",
    "import mplhep"
   ]
  },
  {
   "cell_type": "code",
   "execution_count": null,
   "id": "22251637-663d-4efc-9fe1-f624e3675cc7",
   "metadata": {},
   "outputs": [],
   "source": [
    "#https://hist.readthedocs.io/en/latest/user-guide/notebooks/Plots.html\n",
    "path_file = 'Charmonium_2017_RunF_HLT_Dimuon25_sps_dps.root'\n",
    "ttree = 'obje;1'\n",
    "var_x = 'jpsi_dstar_mass'\n",
    "name_x = 'mass'\n",
    "name_y = \"rap\"\n",
    "var_y = 'jpsi_dstar_deltarap'\n",
    "label_x = r\"$M_{J/\\psi D*}$ [GeV/c]\"\n",
    "label_y = r\"$\\Delta y_{J/\\psi D*}$ [rad]\""
   ]
  },
  {
   "cell_type": "code",
   "execution_count": null,
   "id": "28ea3bc5-7123-4cef-9c8b-ecd126b62629",
   "metadata": {},
   "outputs": [],
   "source": [
    "def get_data(path_file, ttree, var_x, var_y):\n",
    "    \n",
    "    with uproot.open(path_file) as f:\n",
    "        #print(f.classnames())\n",
    "        # Takes the ttree objec (defined in save_ttree.py script)\n",
    "        tree_obj = f[ttree]\n",
    "        # Takes its arrays\n",
    "        branch_obj = tree_obj.arrays()\n",
    "        \n",
    "        # Takes the composed object inv mass\n",
    "        jpsi_dstar_mass = branch_obj[var_x]\n",
    "        # Takes the composed object delta y    \n",
    "        jpsi_dstar_deltarap = branch_obj[var_y]\n",
    "        \n",
    "        return jpsi_dstar_mass, jpsi_dstar_deltarap"
   ]
  },
  {
   "cell_type": "code",
   "execution_count": null,
   "id": "b1c4a9d1-f68b-4795-a970-e76de7d3e8ee",
   "metadata": {},
   "outputs": [],
   "source": [
    "def plot_hist(var_x, var_y, h_range):\n",
    "    \n",
    "    hist_2d = hist.Hist(hist.axis.Regular(250, 0, 100, name=name_x, label=label_x), \n",
    "                      hist.axis.Regular(100, -5, 5, name=name_y, label=label_y))   \n",
    "    hist_2d.fill(mass=var_x, rap=var_y)\n",
    "    \n",
    "    #fig = plt.figure()\n",
    "    #fig.clear()\n",
    "    #ax = fig.add_subplot()\n",
    "    \n",
    "    hist_2d_2 = hist_2d[h_range[0][0]:h_range[0][1], h_range[1][0]:h_range[1][1]]\n",
    "    #mplhep.histplot(hist_2d_2.project(\"mass\"), ax=axs[0])\n",
    "    #mplhep.hist2dplot(hist_2d_2, ax=ax)\n",
    "    \n",
    "    #fig, ax = plt.subplots(figsize=(6, 6))\n",
    "\n",
    "    #hist_2d_2.plot2d(ax=ax, cmap=\"plasma\")\n",
    "    \n",
    "    plt.figure(figsize=(12, 12))\n",
    "\n",
    "    hist_2d_2.plot2d_full(\n",
    "        main_cmap=\"coolwarm\",\n",
    "        top_ls=\"--\",\n",
    "        top_color=\"orange\",\n",
    "        top_lw=2,\n",
    "        side_ls=\":\",\n",
    "        side_lw=2,\n",
    "        side_color=\"steelblue\",\n",
    "    )\n",
    "\n",
    "    plt.show()\n",
    "    "
   ]
  },
  {
   "cell_type": "code",
   "execution_count": null,
   "id": "d95d52e4-e9c2-4a31-b64e-7af452b724b7",
   "metadata": {},
   "outputs": [],
   "source": [
    "x, y = get_data(path_file, ttree, var_x, var_y)\n",
    "h_range = [[0, 50], [None, None]]\n",
    "plot_hist(x, y, h_range)\n",
    "#plt.savegig('')"
   ]
  },
  {
   "cell_type": "code",
   "execution_count": null,
   "id": "f00360d4-9613-4e92-aea9-d043b330b10b",
   "metadata": {},
   "outputs": [],
   "source": [
    "hist_1d = hist.Hist(hist.axis.Regular(250, 0, 100, name=name_x, label=label_x))  \n",
    "hist_1d.fill(x)\n",
    "mplhep.histplot(hist_1d)"
   ]
  }
 ],
 "metadata": {
  "kernelspec": {
   "display_name": "Python 3 (ipykernel)",
   "language": "python",
   "name": "python3"
  },
  "language_info": {
   "codemirror_mode": {
    "name": "ipython",
    "version": 3
   },
   "file_extension": ".py",
   "mimetype": "text/x-python",
   "name": "python",
   "nbconvert_exporter": "python",
   "pygments_lexer": "ipython3",
   "version": "3.9.13"
  }
 },
 "nbformat": 4,
 "nbformat_minor": 5
}
